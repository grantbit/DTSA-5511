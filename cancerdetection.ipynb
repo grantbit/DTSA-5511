{
 "cells": [
  {
   "cell_type": "code",
   "execution_count": 25,
   "metadata": {},
   "outputs": [],
   "source": [
    "import numpy as np\n",
    "import pandas as pd\n",
    "import matplotlib.pyplot as plt\n",
    "from PIL import Image\n",
    "import tensorflow as tf\n",
    "import os\n",
    "import multiprocessing\n",
    "from tqdm import tqdm\n",
    "from sklearn.model_selection import train_test_split\n",
    "from tensorflow.keras.preprocessing.image import ImageDataGenerator\n",
    "from tensorflow.keras.models import Sequential\n",
    "from tensorflow.keras.layers import Conv2D, MaxPooling2D, Flatten, Dense, Dropout\n",
    "from tensorflow.keras.callbacks import EarlyStopping, ModelCheckpoint\n",
    "import zipfile"
   ]
  },
  {
   "cell_type": "code",
   "execution_count": 26,
   "metadata": {},
   "outputs": [
    {
     "name": "stdout",
     "output_type": "stream",
     "text": [
      "Warning: Your Kaggle API key is readable by other users on this system! To fix this, you can run 'chmod 600 /Users/grantbitner/.kaggle/kaggle.json'\n",
      "histopathologic-cancer-detection.zip: Skipping, found more recently modified local copy (use --force to force download)\n",
      "Number of training images: 220025\n",
      "Number of test images: 57458\n"
     ]
    }
   ],
   "source": [
    "os.makedirs(os.path.expanduser(\"~/.kaggle\"), exist_ok=True)\n",
    "\n",
    "# Force training on CPU\n",
    "os.environ['CUDA_VISIBLE_DEVICES'] = '-1'\n",
    "\n",
    "# Load CSV file\n",
    "train_df = pd.read_csv(os.path.expanduser(\"~/Desktop/pywork/sample_submission.csv\"))\n",
    "df_samples = pd.read_csv(os.path.expanduser(\"~/Desktop/pywork/sample_submission.csv\"))\n",
    "\n",
    "# Ensure .kaggle directory exists\n",
    "kaggle_dir = os.path.expanduser(\"~/.kaggle\")\n",
    "os.makedirs(kaggle_dir, exist_ok=True)\n",
    "\n",
    "# Ensure kaggle.json exists in the .kaggle directory\n",
    "kaggle_json_path = os.path.join(kaggle_dir, \"kaggle.json\")\n",
    "if not os.path.exists(kaggle_json_path):\n",
    "    raise FileNotFoundError(\"kaggle.json file not found in .kaggle directory\")\n",
    "\n",
    "# Set Kaggle API environment variable\n",
    "os.environ['KAGGLE_CONFIG_DIR'] = kaggle_dir\n",
    "\n",
    "# Download the dataset\n",
    "!kaggle competitions download -c histopathologic-cancer-detection -p .\n",
    "\n",
    "with zipfile.ZipFile('histopathologic-cancer-detection.zip', 'r') as zip_ref:\n",
    "    zip_ref.extractall('histopathologic-cancer-detection')\n",
    "\n",
    "train_dir = \"histopathologic-cancer-detection/train/\"\n",
    "test_dir = \"histopathologic-cancer-detection/test/\"\n",
    "\n",
    "print(\"Number of training images: {}\".format(len(os.listdir(train_dir))))\n",
    "print(\"Number of test images: {}\".format(len(os.listdir(test_dir))))"
   ]
  },
  {
   "cell_type": "code",
   "execution_count": 27,
   "metadata": {},
   "outputs": [
    {
     "name": "stdout",
     "output_type": "stream",
     "text": [
      "Found 176020 validated image filenames belonging to 2 classes.\n",
      "Found 44005 validated image filenames belonging to 2 classes.\n"
     ]
    },
    {
     "name": "stderr",
     "output_type": "stream",
     "text": [
      "/Library/Frameworks/Python.framework/Versions/3.11/lib/python3.11/site-packages/keras/src/layers/convolutional/base_conv.py:107: UserWarning: Do not pass an `input_shape`/`input_dim` argument to a layer. When using Sequential models, prefer using an `Input(shape)` object as the first layer in the model instead.\n",
      "  super().__init__(activity_regularizer=activity_regularizer, **kwargs)\n"
     ]
    },
    {
     "name": "stdout",
     "output_type": "stream",
     "text": [
      "Epoch 1/50\n"
     ]
    },
    {
     "name": "stderr",
     "output_type": "stream",
     "text": [
      "/Library/Frameworks/Python.framework/Versions/3.11/lib/python3.11/site-packages/keras/src/trainers/data_adapters/py_dataset_adapter.py:121: UserWarning: Your `PyDataset` class should call `super().__init__(**kwargs)` in its constructor. `**kwargs` can include `workers`, `use_multiprocessing`, `max_queue_size`. Do not pass these arguments to `fit()`, as they will be ignored.\n",
      "  self._warn_if_super_not_called()\n"
     ]
    },
    {
     "name": "stdout",
     "output_type": "stream",
     "text": [
      "\u001b[1m   4/5500\u001b[0m \u001b[37m━━━━━━━━━━━━━━━━━━━━\u001b[0m \u001b[1m11:01\u001b[0m 120ms/step - accuracy: 0.5247 - loss: 0.8908"
     ]
    }
   ],
   "source": [
    "# Data preprocessing\n",
    "train_labels = pd.read_csv('histopathologic-cancer-detection/train_labels.csv')\n",
    "\n",
    "# Append '.tif' extension to the image IDs\n",
    "train_labels['id'] = train_labels['id'].apply(lambda x: x + '.tif')\n",
    "df_samples['id'] = df_samples['id'].apply(lambda x: x + '.tif')\n",
    "\n",
    "# Convert labels to strings\n",
    "train_labels['label'] = train_labels['label'].astype(str)\n",
    "\n",
    "# Splitting the data\n",
    "train_df, valid_df = train_test_split(train_labels, stratify=train_labels['label'], test_size=0.2)\n",
    "\n",
    "# Data augmentation and generators\n",
    "train_datagen = ImageDataGenerator(\n",
    "    rescale=1./255,\n",
    "    rotation_range=20,\n",
    "    width_shift_range=0.2,\n",
    "    height_shift_range=0.2,\n",
    "    shear_range=0.2,\n",
    "    zoom_range=0.2,\n",
    "    horizontal_flip=True,\n",
    "    fill_mode='nearest'\n",
    ")\n",
    "\n",
    "valid_datagen = ImageDataGenerator(rescale=1./255)\n",
    "\n",
    "train_generator = train_datagen.flow_from_dataframe(\n",
    "    train_df,\n",
    "    directory=train_dir,\n",
    "    x_col='id',\n",
    "    y_col='label',\n",
    "    target_size=(96, 96),\n",
    "    batch_size=32,\n",
    "    class_mode='binary'\n",
    ")\n",
    "\n",
    "valid_generator = valid_datagen.flow_from_dataframe(\n",
    "    valid_df,\n",
    "    directory=train_dir,\n",
    "    x_col='id',\n",
    "    y_col='label',\n",
    "    target_size=(96, 96),\n",
    "    batch_size=32,\n",
    "    class_mode='binary'\n",
    ")\n",
    "\n",
    "# Building the model\n",
    "model = Sequential([\n",
    "    Conv2D(32, (3, 3), activation='relu', input_shape=(96, 96, 3)),\n",
    "    MaxPooling2D((2, 2)),\n",
    "    Conv2D(64, (3, 3), activation='relu'),\n",
    "    MaxPooling2D((2, 2)),\n",
    "    Conv2D(128, (3, 3), activation='relu'),\n",
    "    MaxPooling2D((2, 2)),\n",
    "    Flatten(),\n",
    "    Dense(512, activation='relu'),\n",
    "    Dropout(0.5),\n",
    "    Dense(1, activation='sigmoid')\n",
    "])\n",
    "\n",
    "model.compile(optimizer='adam', loss='binary_crossentropy', metrics=['accuracy'])\n",
    "\n",
    "# Callbacks\n",
    "early_stopping = EarlyStopping(monitor='val_loss', patience=10, restore_best_weights=True)\n",
    "model_checkpoint = ModelCheckpoint('best_model.keras', save_best_only=True, monitor='val_loss')\n",
    "\n",
    "# Training the model\n",
    "history = model.fit(\n",
    "    train_generator,\n",
    "    steps_per_epoch=train_generator.samples // train_generator.batch_size,\n",
    "    validation_data=valid_generator,\n",
    "    validation_steps=valid_generator.samples // valid_generator.batch_size,\n",
    "    epochs=50,\n",
    "    callbacks=[early_stopping, model_checkpoint]\n",
    ")\n",
    "\n",
    "# Plotting training history\n",
    "plt.plot(history.history['accuracy'], label='accuracy')\n",
    "plt.plot(history.history['val_accuracy'], label='val_accuracy')\n",
    "plt.xlabel('Epoch')\n",
    "plt.ylabel('Accuracy')\n",
    "plt.ylim([0, 1])\n",
    "plt.legend(loc='lower right')\n",
    "plt.show()\n",
    "\n",
    "# Evaluating the model\n",
    "model.load_weights('best_model.keras')\n",
    "test_generator = valid_datagen.flow_from_dataframe(\n",
    "    df_samples,\n",
    "    directory=test_dir,\n",
    "    x_col='id',\n",
    "    y_col=None,\n",
    "    target_size=(96, 96),\n",
    "    batch_size=32,\n",
    "    class_mode=None,\n",
    "    shuffle=False\n",
    ")\n",
    "\n",
    "predictions = model.predict(test_generator)\n",
    "df_samples['label'] = predictions\n",
    "df_samples.to_csv('submission.csv', index=False)\n",
    "print(\"Prediction complete and saved to submission.csv\")\n"
   ]
  }
 ],
 "metadata": {
  "kernelspec": {
   "display_name": "Python 3",
   "language": "python",
   "name": "python3"
  },
  "language_info": {
   "codemirror_mode": {
    "name": "ipython",
    "version": 3
   },
   "file_extension": ".py",
   "mimetype": "text/x-python",
   "name": "python",
   "nbconvert_exporter": "python",
   "pygments_lexer": "ipython3",
   "version": "3.11.1"
  },
  "orig_nbformat": 4,
  "vscode": {
   "interpreter": {
    "hash": "aee8b7b246df8f9039afb4144a1f6fd8d2ca17a180786b69acc140d282b71a49"
   }
  }
 },
 "nbformat": 4,
 "nbformat_minor": 2
}
